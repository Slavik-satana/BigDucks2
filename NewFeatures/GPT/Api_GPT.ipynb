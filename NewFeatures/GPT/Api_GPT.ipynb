{
 "cells": [
  {
   "cell_type": "code",
   "execution_count": null,
   "metadata": {},
   "outputs": [],
   "source": [
    "import requests\n",
    "import pandas as pd\n",
    "from Auth import model,key\n",
    "import PyPDF2"
   ]
  },
  {
   "cell_type": "markdown",
   "metadata": {},
   "source": [
    "Импортируем датафрейм из файла"
   ]
  },
  {
   "cell_type": "code",
   "execution_count": null,
   "metadata": {},
   "outputs": [],
   "source": [
    "df = pd.read_excel(\"hackaton_result_dataset.xlsx\")"
   ]
  },
  {
   "cell_type": "markdown",
   "metadata": {},
   "source": [
    "Функция для оценки фразы"
   ]
  },
  {
   "cell_type": "code",
   "execution_count": null,
   "metadata": {},
   "outputs": [],
   "source": [
    "def ask_GPT(extracted_text, extracted_text2):\n",
    "    prompt = {\n",
    "        \"modelUri\": model,\n",
    "        \"completionOptions\": {\n",
    "            \"stream\": False,\n",
    "            \"temperature\": 0.1,\n",
    "            \"maxTokens\": \"200000\"\n",
    "        },\n",
    "        \"messages\": [\n",
    "            {\n",
    "                \"role\": \"system\",\n",
    "                \"text\": \"Ты ассистент, способный отличить сгенерированный текст от человеческого.\"\n",
    "            },\n",
    "            {\n",
    "                \"role\": \"user\",\n",
    "                \"text\": \"Привет, ассистент! Мне нужна твоя помощь, в оценке фразы.\"\n",
    "            },\n",
    "            {\n",
    "                \"role\": \"assistant\",\n",
    "                \"text\": \"Привет! Как я могу оценить вашу фразу?\"\n",
    "            },\n",
    "            {\n",
    "                \"role\": \"user\",\n",
    "                \"text\": f\"Фраза звучит так: {}. Верни оценку от 1 до 10. Где 1 это результат плохой генерации или бессвязный текст, а 10 это точно фраза сказанная человеком\"\n",
    "            }\n",
    "        ]\n",
    "    }\n",
    "\n",
    "    url = \"https://llm.api.cloud.yandex.net/foundationModels/v1/completion\"\n",
    "    headers = {\n",
    "        \"Content-Type\": \"application/json\",\n",
    "        \"Authorization\": f\"Api-Key {key}\"\n",
    "    }\n",
    "\n",
    "    result = requests.post(url, headers=headers, json=prompt)\n",
    "\n",
    "    return result"
   ]
  },
  {
   "cell_type": "markdown",
   "metadata": {},
   "source": [
    "Добавляем оценку в датафрейм"
   ]
  },
  {
   "cell_type": "code",
   "execution_count": null,
   "metadata": {},
   "outputs": [],
   "source": [
    "df.iloc[:, 3] = df.iloc[:, 0].apply(ask_GPT)"
   ]
  },
  {
   "cell_type": "markdown",
   "metadata": {},
   "source": [
    "Записываем получившийся файл"
   ]
  },
  {
   "cell_type": "code",
   "execution_count": null,
   "metadata": {},
   "outputs": [],
   "source": [
    "df.to_csv(\"hackaton_result_dataset.csv\", index=False)"
   ]
  }
 ],
 "metadata": {
  "language_info": {
   "name": "python"
  }
 },
 "nbformat": 4,
 "nbformat_minor": 2
}
